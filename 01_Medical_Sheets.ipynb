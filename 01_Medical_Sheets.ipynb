{
  "cells": [
    {
      "cell_type": "markdown",
      "id": "26f65668",
      "metadata": {
        "id": "26f65668"
      },
      "source": [
        "# LLM Powered Medical Case Sheet Ingestion\n",
        "## Outline\n",
        "1. Data Cleansing\n",
        "2. Prompt Definition\n",
        "3. Entity & Relationship Extraction\n",
        "4. Neo4j Cypher Generation\n",
        "5. Data Ingestion"
      ]
    },
    {
      "cell_type": "markdown",
      "metadata": {},
      "source": [
        "The [original code](https://github.com/neo4j-partners/neo4j-generative-ai-azure/blob/main/ingestion/ingestion.ipynb) is part of a demo built by the Neo4j-partner team which shows [how Azure OpenAI can be used with Neo4j](https://github.com/neo4j-partners/neo4j-generative-ai-azure)"
      ]
    },
    {
      "cell_type": "code",
      "execution_count": null,
      "id": "61138c34",
      "metadata": {
        "id": "61138c34"
      },
      "outputs": [],
      "source": [
        "%%capture\n",
        "%pip install graphdatascience\n",
        "%pip install openai\n",
        "%pip install python-dotenv\n",
        "%pip install retry"
      ]
    },
    {
      "cell_type": "code",
      "execution_count": 60,
      "id": "c2c97f1b",
      "metadata": {
        "id": "c2c97f1b"
      },
      "outputs": [],
      "source": [
        "import os\n",
        "import openai\n",
        "from retry import retry\n",
        "import re\n",
        "from string import Template\n",
        "import json\n",
        "import ast\n",
        "import time\n",
        "import pandas as pd\n",
        "from graphdatascience import GraphDataScience\n",
        "import glob\n",
        "from timeit import default_timer as timer\n",
        "from dotenv import load_dotenv"
      ]
    },
    {
      "cell_type": "markdown",
      "id": "7d70b41f",
      "metadata": {
        "id": "7d70b41f"
      },
      "source": [
        "## Data Cleansing"
      ]
    },
    {
      "cell_type": "markdown",
      "id": "d89595dc",
      "metadata": {
        "id": "d89595dc"
      },
      "source": [
        "First, let's define a function that can help clean the input data. For the sake of simplicity, lets keep it simple. In the corpus, the data refers to some Figures like scan images. We dont have them and so will remove any such references."
      ]
    },
    {
      "cell_type": "code",
      "execution_count": 61,
      "id": "af73c9ce",
      "metadata": {
        "id": "af73c9ce"
      },
      "outputs": [],
      "source": [
        "def clean_text(text):\n",
        "  clean = \"\\n\".join([row for row in text.split(\"\\n\")])\n",
        "  clean = re.sub(r'\\(fig[^)]*\\)', '', clean, flags=re.IGNORECASE)\n",
        "  return clean"
      ]
    },
    {
      "cell_type": "markdown",
      "id": "5326d17d",
      "metadata": {
        "id": "5326d17d"
      },
      "source": [
        "Let's take this case sheet and extract entities and relations using LLM"
      ]
    },
    {
      "cell_type": "code",
      "execution_count": 62,
      "id": "09861c5f",
      "metadata": {
        "id": "09861c5f"
      },
      "outputs": [],
      "source": [
        "article_txt = \"\"\"The patient was a 34-yr-old man who presented with complaints of fever and a chronic cough.\n",
        "He was a smoker and had a history of pulmonary tuberculosis that had been treated and cured.\n",
        "A computed tomographic (CT) scan revealed multiple tiny nodules in both lungs.\n",
        "A thoracoscopic lung biopsy was taken from the right upper lobe.\n",
        "The microscopic examination revealed a typical LCH.\n",
        "The tumor cells had vesicular and grooved nuclei, and they formed small aggregations around the bronchioles (Fig.1).\n",
        "The tumor cells were strongly positive for S-100 protein, vimentin, CD68 and CD1a.\n",
        "There were infiltrations of lymphocytes and eosinophils around the tumor cells.\n",
        "With performing additional radiologic examinations, no other organs were thought to be involved.\n",
        "He quit smoking, but he received no other specific treatment.\n",
        "He was well for the following one year.\n",
        "After this, a follow-up CT scan was performed and it showed a 4 cm-sized mass in the left lower lobe, in addition to the multiple tiny nodules in both lungs (Fig.2).\n",
        "A needle biopsy specimen revealed the possibility of a sarcoma; therefore, a lobectomy was performed.\n",
        "Grossly, a 4 cm-sized poorly-circumscribed lobulated gray-white mass was found (Fig.3), and there were a few small satellite nodules around the main mass.\n",
        "Microscopically, the tumor cells were aggregated in large sheets and they showed an infiltrative growth.\n",
        "The cytologic features of some of the tumor cells were similar to those seen in a typical LCH.\n",
        "However, many tumor cells showed overtly malignant cytologic features such as pleomorphic/hyperchromatic nuclei and prominent nucleoli (Fig.4), and multinucleated tumor giant cells were also found.\n",
        "There were numerous mitotic figures ranging from 30 to 60 per 10 high power fields, and some of them were abnormal.\n",
        "A few foci of typical LCH remained around the main tumor mass.\n",
        "Immunohistochemically, the tumor cells were strongly positive for S-100 protein (Fig.5) and vimentin; they were also positive for CD68 (Dako N1577, Clone KPI), and focally positive for CD1a (Fig.6), and they were negative for cytokeratin, epithelial membrane antigen, CD3, CD20 and HMB45.\n",
        "The ultrastructural analysis failed to demonstrate any Birbeck granules in the cytoplasm of the tumor cells.\n",
        "Now, at five months after lobectomy, the patient is doing well with no significant change in the radiologic findings.\n",
        "\"\"\""
      ]
    },
    {
      "cell_type": "markdown",
      "id": "bd3236df",
      "metadata": {
        "id": "bd3236df"
      },
      "source": [
        "## Prompt Definition"
      ]
    },
    {
      "cell_type": "code",
      "execution_count": 63,
      "metadata": {},
      "outputs": [],
      "source": [
        "import os\n",
        "from dotenv import load_dotenv\n",
        "\n",
        "load_dotenv()\n",
        "\n",
        "from openai import OpenAI\n",
        "\n",
        "client = OpenAI()\n",
        "\n",
        "client.api_key = os.getenv('OPENAI_API_KEY')"
      ]
    },
    {
      "cell_type": "markdown",
      "id": "ff224199",
      "metadata": {
        "id": "ff224199"
      },
      "source": [
        "This is a helper function to talk to the LLM with our prompt and text input"
      ]
    },
    {
      "cell_type": "code",
      "execution_count": 64,
      "id": "1d8592a3",
      "metadata": {
        "id": "1d8592a3"
      },
      "outputs": [],
      "source": [
        "# GPT-4 Prompt to complete\n",
        "@retry(tries=2, delay=5)\n",
        "def process_gpt(system,\n",
        "                prompt):\n",
        "\n",
        "    completion = client.chat.completions.create(\n",
        "        model=\"gpt-4\",\n",
        "        max_tokens=4000,\n",
        "        temperature=0, # Try to be as deterministic as possible\n",
        "        messages=[\n",
        "            {\"role\": \"system\", \"content\": system},\n",
        "            {\"role\": \"user\", \"content\": prompt},\n",
        "        ]\n",
        "    )\n",
        "    nlp_results = completion.choices[0].message.content\n",
        "    return nlp_results"
      ]
    },
    {
      "cell_type": "markdown",
      "id": "a52639cd",
      "metadata": {
        "id": "a52639cd"
      },
      "source": [
        "This is a simple prompt to start with. If the processing is very complex, you can also chain the prompts as and when required. I am going to use a single prompt here that helps me to extract the text strictly as per the Entities and Relationships defined. This is a simplification. In the real scenario, especially with medical records, you have to leverage on Domain experts to define the Ontology systematically and capture the important information. You might also be fine-tuning the model as and when required.\n",
        "\n",
        "Also, instead of one single large model, you can also consider chaining a number of smaller ones as per your needs.\n",
        "\n",
        "We are going with this Graph Schema for our Case Sheet:\n",
        "![schema.png](attachment:d16d5097-785c-4343-8a48-289517fca944.png)"
      ]
    },
    {
      "cell_type": "code",
      "execution_count": 65,
      "id": "90379cd1",
      "metadata": {
        "id": "90379cd1"
      },
      "outputs": [],
      "source": [
        "prompt1=\"\"\"From the Case sheet for a patient below, extract the following Entities & relationships described in the mentioned format\n",
        "0. ALWAYS FINISH THE OUTPUT. Never send partial responses\n",
        "1. First, look for these Entity types in the text and generate as comma-separated format similar to entity type.\n",
        "   `id` property of each entity must be alphanumeric and must be unique among the entities. You will be referring this property to define the relationship between entities. Do not create new entity types that aren't mentioned below. Document must be summarized and stored inside Case entity under `summary` property. You will have to generate as many entities as needed as per the types below:\n",
        "    Entity Types:\n",
        "    label:'Case',id:string,summary:string //Case\n",
        "    label:'Person',id:string,age:string,location:string,gender:string //Patient mentioned in the case\n",
        "    label:'Symptom',id:string,description:string //Symptom Entity; `id` property is the name of the symptom, in lowercase & camel-case & should always start with an alphabet\n",
        "    label:'Disease',id:string,name:string //Disease diagnosed now or previously as per the Case sheet; `id` property is the name of the disease, in lowercase & camel-case & should always start with an alphabet\n",
        "    label:'BodySystem',id:string,name:string //Body Part affected. Eg: Chest, Lungs; id property is the name of the part, in lowercase & camel-case & should always start with an alphabet\n",
        "    label:'Diagnosis',id:string,name:string,description:string,when:string //Diagnostic procedure conducted; `id` property is the summary of the Diagnosis, in lowercase & camel-case & should always start with an alphabet\n",
        "    label:'Biological',id:string,name:string,description:string //Results identified from Diagnosis; `id` property is the summary of the Biological, in lowercase & camel-case & should always start with an alphabet\n",
        "\n",
        "3. Next generate each relationships as triples of head, relationship and tail. To refer the head and tail entity, use their respective `id` property. Relationship property should be mentioned within brackets as comma-separated. They should follow these relationship types below. You will have to generate as many relationships as needed as defined below:\n",
        "    Relationship types:\n",
        "    case|FOR|person\n",
        "    person|HAS_SYMPTOM{when:string,frequency:string,span:string}|symptom //the properties inside HAS_SYMPTOM gets populated from the Case sheet\n",
        "    person|HAS_DISEASE{when:string}|disease //the properties inside HAS_DISEASE gets populated from the Case sheet\n",
        "    symptom|SEEN_ON|chest\n",
        "    disease|AFFECTS|heart\n",
        "    person|HAS_DIAGNOSIS|diagnosis\n",
        "    diagnosis|SHOWED|biological\n",
        "\n",
        "The output should look like :\n",
        "{\n",
        "    \"entities\": [{\"label\":\"Case\",\"id\":string,\"summary\":string}],\n",
        "    \"relationships\": [\"disease|AFFECTS|heart\"]\n",
        "}\n",
        "\n",
        "Case Sheet:\n",
        "$ctext\n",
        "\"\"\""
      ]
    },
    {
      "cell_type": "markdown",
      "id": "a6a20e1c",
      "metadata": {
        "id": "a6a20e1c"
      },
      "source": [
        "Let's run our completion task with our LLM"
      ]
    },
    {
      "cell_type": "code",
      "execution_count": 66,
      "id": "98cbafb5",
      "metadata": {
        "colab": {
          "base_uri": "https://localhost:8080/"
        },
        "id": "98cbafb5",
        "outputId": "054b248e-ee1e-4f1c-9a4a-fb125e662fd0"
      },
      "outputs": [
        {
          "name": "stdout",
          "output_type": "stream",
          "text": [
            "CPU times: user 7.46 ms, sys: 7.8 ms, total: 15.3 ms\n",
            "Wall time: 53.3 s\n"
          ]
        }
      ],
      "source": [
        "%%time\n",
        "def run_completion(prompt, results, ctext):\n",
        "    try:\n",
        "      system = \"You are a helpful Medical Case Sheet expert who extracts relevant information and store them on a Neo4j Knowledge Graph\"\n",
        "      pr = Template(prompt).substitute(ctext=ctext)\n",
        "      res = process_gpt(system, pr)\n",
        "      results.append(json.loads(res.replace(\"\\'\", \"'\")))\n",
        "      return results\n",
        "    except Exception as e:\n",
        "        print(e)\n",
        "\n",
        "prompts = [prompt1]\n",
        "results = []\n",
        "for p in prompts:\n",
        "  results = run_completion(p, results, clean_text(article_txt))\n"
      ]
    },
    {
      "cell_type": "code",
      "execution_count": 67,
      "id": "AamYyrvGbr66",
      "metadata": {
        "colab": {
          "base_uri": "https://localhost:8080/"
        },
        "id": "AamYyrvGbr66",
        "outputId": "5475edcf-41c7-43e1-d910-355f551da8c6"
      },
      "outputs": [
        {
          "data": {
            "text/plain": [
              "[{'entities': [{'label': 'Case',\n",
              "    'id': 'case1',\n",
              "    'summary': 'The patient was a 34-yr-old man who presented with complaints of fever and a chronic cough. He was a smoker and had a history of pulmonary tuberculosis that had been treated and cured. A computed tomographic (CT) scan revealed multiple tiny nodules in both lungs. A thoracoscopic lung biopsy was taken from the right upper lobe. The microscopic examination revealed a typical LCH. The tumor cells had vesicular and grooved nuclei, and they formed small aggregations around the bronchioles. The tumor cells were strongly positive for S-100 protein, vimentin, CD68 and CD1a. There were infiltrations of lymphocytes and eosinophils around the tumor cells. With performing additional radiologic examinations, no other organs were thought to be involved. He quit smoking, but he received no other specific treatment. He was well for the following one year. After this, a follow-up CT scan was performed and it showed a 4 cm-sized mass in the left lower lobe, in addition to the multiple tiny nodules in both lungs. A needle biopsy specimen revealed the possibility of a sarcoma; therefore, a lobectomy was performed. Grossly, a 4 cm-sized poorly-circumscribed lobulated gray-white mass was found , and there were a few small satellite nodules around the main mass. Microscopically, the tumor cells were aggregated in large sheets and they showed an infiltrative growth. The cytologic features of some of the tumor cells were similar to those seen in a typical LCH. However, many tumor cells showed overtly malignant cytologic features such as pleomorphic/hyperchromatic nuclei and prominent nucleoli , and multinucleated tumor giant cells were also found. There were numerous mitotic figures ranging from 30 to 60 per 10 high power fields, and some of them were abnormal. A few foci of typical LCH remained around the main tumor mass. Immunohistochemically, the tumor cells were strongly positive for S-100 protein  and vimentin; they were also positive for CD68 (Dako N1577, Clone KPI), and focally positive for CD1a , and they were negative for cytokeratin, epithelial membrane antigen, CD3, CD20 and HMB45. The ultrastructural analysis failed to demonstrate any Birbeck granules in the cytoplasm of the tumor cells. Now, at five months after lobectomy, the patient is doing well with no significant change in the radiologic findings.'},\n",
              "   {'label': 'Person',\n",
              "    'id': 'person1',\n",
              "    'age': '34',\n",
              "    'location': 'unknown',\n",
              "    'gender': 'male'},\n",
              "   {'label': 'Symptom', 'id': 'fever', 'description': 'fever'},\n",
              "   {'label': 'Symptom', 'id': 'chronicCough', 'description': 'chronic cough'},\n",
              "   {'label': 'Disease',\n",
              "    'id': 'pulmonaryTuberculosis',\n",
              "    'name': 'Pulmonary Tuberculosis'},\n",
              "   {'label': 'Disease', 'id': 'lch', 'name': 'LCH'},\n",
              "   {'label': 'Disease', 'id': 'sarcoma', 'name': 'Sarcoma'},\n",
              "   {'label': 'BodySystem', 'id': 'lungs', 'name': 'Lungs'},\n",
              "   {'label': 'Diagnosis',\n",
              "    'id': 'ctScan',\n",
              "    'name': 'CT Scan',\n",
              "    'description': 'Revealed multiple tiny nodules in both lungs',\n",
              "    'when': 'unknown'},\n",
              "   {'label': 'Diagnosis',\n",
              "    'id': 'thoracoscopicLungBiopsy',\n",
              "    'name': 'Thoracoscopic Lung Biopsy',\n",
              "    'description': 'Taken from the right upper lobe',\n",
              "    'when': 'unknown'},\n",
              "   {'label': 'Diagnosis',\n",
              "    'id': 'needleBiopsy',\n",
              "    'name': 'Needle Biopsy',\n",
              "    'description': 'Revealed the possibility of a sarcoma',\n",
              "    'when': 'unknown'},\n",
              "   {'label': 'Biological',\n",
              "    'id': 'tumorCells',\n",
              "    'name': 'Tumor Cells',\n",
              "    'description': 'Had vesicular and grooved nuclei, and they formed small aggregations around the bronchioles'}],\n",
              "  'relationships': ['case1|FOR|person1',\n",
              "   \"person1|HAS_SYMPTOM{when:'unknown',frequency:'unknown',span:'unknown'}|fever\",\n",
              "   \"person1|HAS_SYMPTOM{when:'unknown',frequency:'unknown',span:'unknown'}|chronicCough\",\n",
              "   \"person1|HAS_DISEASE{when:'past'}|pulmonaryTuberculosis\",\n",
              "   \"person1|HAS_DISEASE{when:'present'}|lch\",\n",
              "   \"person1|HAS_DISEASE{when:'present'}|sarcoma\",\n",
              "   'fever|SEEN_ON|lungs',\n",
              "   'chronicCough|SEEN_ON|lungs',\n",
              "   'pulmonaryTuberculosis|AFFECTS|lungs',\n",
              "   'lch|AFFECTS|lungs',\n",
              "   'sarcoma|AFFECTS|lungs',\n",
              "   'person1|HAS_DIAGNOSIS|ctScan',\n",
              "   'person1|HAS_DIAGNOSIS|thoracoscopicLungBiopsy',\n",
              "   'person1|HAS_DIAGNOSIS|needleBiopsy',\n",
              "   'ctScan|SHOWED|tumorCells',\n",
              "   'thoracoscopicLungBiopsy|SHOWED|tumorCells',\n",
              "   'needleBiopsy|SHOWED|tumorCells']}]"
            ]
          },
          "execution_count": 67,
          "metadata": {},
          "output_type": "execute_result"
        }
      ],
      "source": [
        "results"
      ]
    },
    {
      "cell_type": "markdown",
      "id": "dc40d897",
      "metadata": {
        "id": "dc40d897"
      },
      "source": [
        "## Neo4j Cypher Generation"
      ]
    },
    {
      "cell_type": "markdown",
      "id": "ee2a861f",
      "metadata": {
        "id": "ee2a861f"
      },
      "source": [
        "The entities & relationships we got from the LLM have to be transformed to Cypher so we can ingest into Neo4j"
      ]
    },
    {
      "cell_type": "code",
      "execution_count": 68,
      "id": "7b7fe8c3",
      "metadata": {
        "id": "7b7fe8c3"
      },
      "outputs": [],
      "source": [
        "#pre-processing results for uploading into Neo4j - helper function:\n",
        "def get_prop_str(prop_dict, _id):\n",
        "    s = []\n",
        "    for key, val in prop_dict.items():\n",
        "      if key != 'label' and key != 'id':\n",
        "         s.append(_id+\".\"+key+' = \"'+str(val).replace('\\\"', '\"').replace('\"', '\\\"')+'\"')\n",
        "    return ' ON CREATE SET ' + ','.join(s)\n",
        "\n",
        "def get_cypher_compliant_var(_id):\n",
        "    return \"_\"+ re.sub(r'[\\W_]', '', _id)\n",
        "\n",
        "def generate_cypher(in_json):\n",
        "    e_map = {}\n",
        "    e_stmt = []\n",
        "    r_stmt = []\n",
        "    e_stmt_tpl = Template(\"($id:$label{id:'$key'})\")\n",
        "    r_stmt_tpl = Template(\"\"\"\n",
        "      MATCH $src\n",
        "      MATCH $tgt\n",
        "      MERGE ($src_id)-[:$rel]->($tgt_id)\n",
        "    \"\"\")\n",
        "    for obj in in_json:\n",
        "      for j in obj['entities']:\n",
        "          props = ''\n",
        "          label = j['label']\n",
        "          id = j['id']\n",
        "          if label == 'Case':\n",
        "                id = 'c'+str(time.time_ns())\n",
        "          elif label == 'Person':\n",
        "                id = 'p'+str(time.time_ns())\n",
        "          varname = get_cypher_compliant_var(j['id'])\n",
        "          stmt = e_stmt_tpl.substitute(id=varname, label=label, key=id)\n",
        "          e_map[varname] = stmt\n",
        "          e_stmt.append('MERGE '+ stmt + get_prop_str(j, varname))\n",
        "\n",
        "      for st in obj['relationships']:\n",
        "          rels = st.split(\"|\")\n",
        "          src_id = get_cypher_compliant_var(rels[0].strip())\n",
        "          rel = rels[1].strip()\n",
        "          tgt_id = get_cypher_compliant_var(rels[2].strip())\n",
        "          stmt = r_stmt_tpl.substitute(\n",
        "              src_id=src_id, tgt_id=tgt_id, src=e_map[src_id], tgt=e_map[tgt_id], rel=rel)\n",
        "\n",
        "          r_stmt.append(stmt)\n",
        "\n",
        "    return e_stmt, r_stmt"
      ]
    },
    {
      "cell_type": "code",
      "execution_count": 69,
      "id": "34f74bf0",
      "metadata": {
        "id": "34f74bf0"
      },
      "outputs": [],
      "source": [
        "ent_cyp, rel_cyp = generate_cypher(results)"
      ]
    },
    {
      "cell_type": "code",
      "execution_count": 70,
      "id": "a8zDIAjYcDfH",
      "metadata": {
        "colab": {
          "base_uri": "https://localhost:8080/"
        },
        "id": "a8zDIAjYcDfH",
        "outputId": "73850e5d-3091-45f4-9509-ed3cee039c57"
      },
      "outputs": [
        {
          "data": {
            "text/plain": [
              "['MERGE (_case1:Case{id:\\'c1702392280095674000\\'}) ON CREATE SET _case1.summary = \"The patient was a 34-yr-old man who presented with complaints of fever and a chronic cough. He was a smoker and had a history of pulmonary tuberculosis that had been treated and cured. A computed tomographic (CT) scan revealed multiple tiny nodules in both lungs. A thoracoscopic lung biopsy was taken from the right upper lobe. The microscopic examination revealed a typical LCH. The tumor cells had vesicular and grooved nuclei, and they formed small aggregations around the bronchioles. The tumor cells were strongly positive for S-100 protein, vimentin, CD68 and CD1a. There were infiltrations of lymphocytes and eosinophils around the tumor cells. With performing additional radiologic examinations, no other organs were thought to be involved. He quit smoking, but he received no other specific treatment. He was well for the following one year. After this, a follow-up CT scan was performed and it showed a 4 cm-sized mass in the left lower lobe, in addition to the multiple tiny nodules in both lungs. A needle biopsy specimen revealed the possibility of a sarcoma; therefore, a lobectomy was performed. Grossly, a 4 cm-sized poorly-circumscribed lobulated gray-white mass was found , and there were a few small satellite nodules around the main mass. Microscopically, the tumor cells were aggregated in large sheets and they showed an infiltrative growth. The cytologic features of some of the tumor cells were similar to those seen in a typical LCH. However, many tumor cells showed overtly malignant cytologic features such as pleomorphic/hyperchromatic nuclei and prominent nucleoli , and multinucleated tumor giant cells were also found. There were numerous mitotic figures ranging from 30 to 60 per 10 high power fields, and some of them were abnormal. A few foci of typical LCH remained around the main tumor mass. Immunohistochemically, the tumor cells were strongly positive for S-100 protein  and vimentin; they were also positive for CD68 (Dako N1577, Clone KPI), and focally positive for CD1a , and they were negative for cytokeratin, epithelial membrane antigen, CD3, CD20 and HMB45. The ultrastructural analysis failed to demonstrate any Birbeck granules in the cytoplasm of the tumor cells. Now, at five months after lobectomy, the patient is doing well with no significant change in the radiologic findings.\"',\n",
              " 'MERGE (_person1:Person{id:\\'p1702392280095707000\\'}) ON CREATE SET _person1.age = \"34\",_person1.location = \"unknown\",_person1.gender = \"male\"',\n",
              " 'MERGE (_fever:Symptom{id:\\'fever\\'}) ON CREATE SET _fever.description = \"fever\"',\n",
              " 'MERGE (_chronicCough:Symptom{id:\\'chronicCough\\'}) ON CREATE SET _chronicCough.description = \"chronic cough\"',\n",
              " 'MERGE (_pulmonaryTuberculosis:Disease{id:\\'pulmonaryTuberculosis\\'}) ON CREATE SET _pulmonaryTuberculosis.name = \"Pulmonary Tuberculosis\"',\n",
              " 'MERGE (_lch:Disease{id:\\'lch\\'}) ON CREATE SET _lch.name = \"LCH\"',\n",
              " 'MERGE (_sarcoma:Disease{id:\\'sarcoma\\'}) ON CREATE SET _sarcoma.name = \"Sarcoma\"',\n",
              " 'MERGE (_lungs:BodySystem{id:\\'lungs\\'}) ON CREATE SET _lungs.name = \"Lungs\"',\n",
              " 'MERGE (_ctScan:Diagnosis{id:\\'ctScan\\'}) ON CREATE SET _ctScan.name = \"CT Scan\",_ctScan.description = \"Revealed multiple tiny nodules in both lungs\",_ctScan.when = \"unknown\"',\n",
              " 'MERGE (_thoracoscopicLungBiopsy:Diagnosis{id:\\'thoracoscopicLungBiopsy\\'}) ON CREATE SET _thoracoscopicLungBiopsy.name = \"Thoracoscopic Lung Biopsy\",_thoracoscopicLungBiopsy.description = \"Taken from the right upper lobe\",_thoracoscopicLungBiopsy.when = \"unknown\"',\n",
              " 'MERGE (_needleBiopsy:Diagnosis{id:\\'needleBiopsy\\'}) ON CREATE SET _needleBiopsy.name = \"Needle Biopsy\",_needleBiopsy.description = \"Revealed the possibility of a sarcoma\",_needleBiopsy.when = \"unknown\"',\n",
              " 'MERGE (_tumorCells:Biological{id:\\'tumorCells\\'}) ON CREATE SET _tumorCells.name = \"Tumor Cells\",_tumorCells.description = \"Had vesicular and grooved nuclei, and they formed small aggregations around the bronchioles\"']"
            ]
          },
          "execution_count": 70,
          "metadata": {},
          "output_type": "execute_result"
        }
      ],
      "source": [
        "ent_cyp"
      ]
    },
    {
      "cell_type": "markdown",
      "id": "13588341",
      "metadata": {
        "id": "13588341"
      },
      "source": [
        "## Data Ingestion"
      ]
    },
    {
      "cell_type": "code",
      "execution_count": 71,
      "id": "beacbd25",
      "metadata": {
        "id": "beacbd25"
      },
      "outputs": [],
      "source": [
        "connectionUrl = os.getenv('NEO4J_URI')\n",
        "username = os.getenv('NEO4J_USERNAME')\n",
        "password = os.getenv('NEO4J_PASSWORD')"
      ]
    },
    {
      "cell_type": "code",
      "execution_count": 72,
      "id": "bfe9acfc",
      "metadata": {
        "colab": {
          "base_uri": "https://localhost:8080/",
          "height": 35
        },
        "id": "bfe9acfc",
        "outputId": "5f7170b9-6ec4-4942-8035-f7e86c177e1a"
      },
      "outputs": [
        {
          "data": {
            "text/plain": [
              "'2.5.5'"
            ]
          },
          "execution_count": 72,
          "metadata": {},
          "output_type": "execute_result"
        }
      ],
      "source": [
        "gds = GraphDataScience(connectionUrl, auth=(username, password), database = 'medicalsheet')\n",
        "gds.version()"
      ]
    },
    {
      "cell_type": "markdown",
      "id": "cd579588",
      "metadata": {
        "id": "cd579588"
      },
      "source": [
        "Before loading the data, create constraints as below"
      ]
    },
    {
      "cell_type": "code",
      "execution_count": 73,
      "id": "f1d546fd",
      "metadata": {
        "colab": {
          "base_uri": "https://localhost:8080/",
          "height": 53
        },
        "id": "f1d546fd",
        "outputId": "eff00286-4b91-4bcf-f3a9-93b8261eeb41"
      },
      "outputs": [
        {
          "data": {
            "text/html": [
              "<div>\n",
              "<style scoped>\n",
              "    .dataframe tbody tr th:only-of-type {\n",
              "        vertical-align: middle;\n",
              "    }\n",
              "\n",
              "    .dataframe tbody tr th {\n",
              "        vertical-align: top;\n",
              "    }\n",
              "\n",
              "    .dataframe thead th {\n",
              "        text-align: right;\n",
              "    }\n",
              "</style>\n",
              "<table border=\"1\" class=\"dataframe\">\n",
              "  <thead>\n",
              "    <tr style=\"text-align: right;\">\n",
              "      <th></th>\n",
              "    </tr>\n",
              "  </thead>\n",
              "  <tbody>\n",
              "  </tbody>\n",
              "</table>\n",
              "</div>"
            ],
            "text/plain": [
              "Empty DataFrame\n",
              "Columns: []\n",
              "Index: []"
            ]
          },
          "execution_count": 73,
          "metadata": {},
          "output_type": "execute_result"
        }
      ],
      "source": [
        "gds.run_cypher('CREATE CONSTRAINT unique_case_id IF NOT EXISTS FOR (n:Case) REQUIRE n.id IS UNIQUE')\n",
        "gds.run_cypher('CREATE CONSTRAINT unique_person_id IF NOT EXISTS FOR (n:Person) REQUIRE (n.id) IS UNIQUE')\n",
        "gds.run_cypher('CREATE CONSTRAINT unique_symptom_id IF NOT EXISTS FOR (n:Symptom) REQUIRE (n.id) IS UNIQUE')\n",
        "gds.run_cypher('CREATE CONSTRAINT unique_disease_id IF NOT EXISTS FOR (n:Disease) REQUIRE n.id IS UNIQUE')\n",
        "gds.run_cypher('CREATE CONSTRAINT unique_bodysys_id IF NOT EXISTS FOR (n:BodySystem) REQUIRE n.id IS UNIQUE')\n",
        "gds.run_cypher('CREATE CONSTRAINT unique_diag_id IF NOT EXISTS FOR (n:Diagnosis) REQUIRE n.id IS UNIQUE')\n",
        "gds.run_cypher('CREATE CONSTRAINT unique_biological_id IF NOT EXISTS FOR (n:Biological) REQUIRE n.id IS UNIQUE')"
      ]
    },
    {
      "cell_type": "markdown",
      "id": "1435e1c9",
      "metadata": {
        "id": "1435e1c9"
      },
      "source": [
        "Ingest the entities"
      ]
    },
    {
      "cell_type": "code",
      "execution_count": 74,
      "id": "df1f033e",
      "metadata": {
        "colab": {
          "base_uri": "https://localhost:8080/"
        },
        "id": "df1f033e",
        "outputId": "8ef33e3b-5e06-456c-e8cc-148b760c2479"
      },
      "outputs": [
        {
          "name": "stdout",
          "output_type": "stream",
          "text": [
            "CPU times: user 53.1 ms, sys: 17.2 ms, total: 70.3 ms\n",
            "Wall time: 297 ms\n"
          ]
        }
      ],
      "source": [
        "%%time\n",
        "for e in ent_cyp:\n",
        "    gds.run_cypher(e)"
      ]
    },
    {
      "cell_type": "markdown",
      "id": "f52ce15b",
      "metadata": {
        "id": "f52ce15b"
      },
      "source": [
        "Ingest relationships now"
      ]
    },
    {
      "cell_type": "code",
      "execution_count": 75,
      "id": "684c1282",
      "metadata": {
        "colab": {
          "base_uri": "https://localhost:8080/"
        },
        "id": "684c1282",
        "outputId": "39c81864-b498-4465-9202-ae161590cdbb"
      },
      "outputs": [
        {
          "name": "stdout",
          "output_type": "stream",
          "text": [
            "CPU times: user 13.1 ms, sys: 2.5 ms, total: 15.6 ms\n",
            "Wall time: 483 ms\n"
          ]
        }
      ],
      "source": [
        "%%time\n",
        "for r in rel_cyp:\n",
        "    gds.run_cypher(r)"
      ]
    },
    {
      "cell_type": "markdown",
      "metadata": {},
      "source": [
        "interface is here: http://40.69.207.123/"
      ]
    },
    {
      "cell_type": "markdown",
      "id": "KNtjkxsU3Ds2",
      "metadata": {
        "id": "KNtjkxsU3Ds2"
      },
      "source": [
        "![image.png](data:image/png;base64,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)"
      ]
    },
    {
      "cell_type": "markdown",
      "metadata": {},
      "source": [
        "Clean medicalsheet:\n",
        "\n"
      ]
    },
    {
      "cell_type": "code",
      "execution_count": null,
      "metadata": {},
      "outputs": [],
      "source": [
        "gds.set_database(\"medicalsheet\")\n",
        "gds.run_cypher('''CALL apoc.schema.assert({},{});''')\n",
        "gds.run_cypher('''MATCH(n) DETACH DELETE n''')\n"
      ]
    },
    {
      "cell_type": "markdown",
      "metadata": {},
      "source": [
        "To run for all medical sheets:"
      ]
    },
    {
      "cell_type": "code",
      "execution_count": null,
      "id": "APm2XdxkWXRU",
      "metadata": {
        "colab": {
          "base_uri": "https://localhost:8080/"
        },
        "id": "APm2XdxkWXRU",
        "outputId": "00e6133c-0f9b-453c-b340-208630dfd8bd"
      },
      "outputs": [],
      "source": [
        "# /content/gdrive/MyDrive/Medical_Sheets_Demo/data\n",
        "\n",
        "txt_files = glob.glob(\"data/*.txt\")[0:191]\n",
        "\n",
        "print(f\"Running pipeline for {len(txt_files)} files\")"
      ]
    },
    {
      "cell_type": "code",
      "execution_count": null,
      "id": "a1CJ9nSgW9Zt",
      "metadata": {
        "id": "a1CJ9nSgW9Zt"
      },
      "outputs": [],
      "source": [
        "txt_files"
      ]
    },
    {
      "cell_type": "markdown",
      "id": "36ce7424",
      "metadata": {
        "id": "36ce7424"
      },
      "source": [
        "This is a helper function to ingest all case sheets inside the `data/` directory"
      ]
    },
    {
      "cell_type": "code",
      "execution_count": null,
      "id": "a15e3072",
      "metadata": {
        "id": "a15e3072"
      },
      "outputs": [],
      "source": [
        "def run_pipeline(count=191):\n",
        "    txt_files = glob.glob(\"data/*.txt\")[0:count]\n",
        "    print(f\"Running pipeline for {len(txt_files)} files\")\n",
        "    failed_files = process_pipeline(txt_files)\n",
        "    print(failed_files)\n",
        "    return failed_files\n",
        "\n",
        "def process_pipeline(files):\n",
        "    failed_files = []\n",
        "    for f in files:\n",
        "        try:\n",
        "            with open(f, 'r') as file:\n",
        "                print(f\"  {f}: Reading File...\")\n",
        "                data = file.read().rstrip()\n",
        "                text = clean_text(data)\n",
        "                print(f\"    {f}: Extracting E & R\")\n",
        "                results = extract_entities_relationships(f, text)\n",
        "                print(f\"    {f}: Generating Cypher\")\n",
        "                ent_cyp, rel_cyp = generate_cypher(results)\n",
        "                print(f\"    {f}: Ingesting Entities\")\n",
        "                for e in ent_cyp:\n",
        "                    gds.run_cypher(e)\n",
        "                print(f\"    {f}: Ingesting Relationships\")\n",
        "                for r in rel_cyp:\n",
        "                    gds.run_cypher(r)\n",
        "                print(f\"    {f}: Processing DONE\")\n",
        "        except Exception as e:\n",
        "            print(f\"    {f}: Processing Failed with exception {e}\")\n",
        "            failed_files.append(f)\n",
        "    return failed_files\n",
        "\n",
        "def extract_entities_relationships(f, text):\n",
        "    start = timer()\n",
        "    system = \"You are a helpful Medical Case Sheet expert who extracts relevant information and store them on a Neo4j Knowledge Graph\"\n",
        "    prompts = [prompt1]\n",
        "    all_cypher = \"\"\n",
        "    results = []\n",
        "    for p in prompts:\n",
        "      p = Template(p).substitute(ctext=text)\n",
        "      res = process_gpt(system, p)\n",
        "      results.append(json.loads(res))\n",
        "    end = timer()\n",
        "    elapsed = (end-start)\n",
        "    print(f\"    {f}: E & R took {elapsed}secs\")\n",
        "    return results"
      ]
    },
    {
      "cell_type": "code",
      "execution_count": null,
      "id": "92f1ebbe",
      "metadata": {
        "colab": {
          "base_uri": "https://localhost:8080/",
          "height": 1000
        },
        "id": "92f1ebbe",
        "outputId": "0e47571a-13d5-4328-b833-a1444b72dd44"
      },
      "outputs": [],
      "source": [
        "%%time\n",
        "failed_files = run_pipeline(200)"
      ]
    },
    {
      "cell_type": "markdown",
      "id": "a559333e",
      "metadata": {
        "id": "a559333e"
      },
      "source": [
        "If processing failed for some files due to API Rate limit or some other error, you can retry as below"
      ]
    },
    {
      "cell_type": "code",
      "execution_count": null,
      "id": "39031486",
      "metadata": {
        "id": "39031486"
      },
      "outputs": [],
      "source": [
        "%%time\n",
        "failed_files = process_pipeline(failed_files)\n",
        "failed_files"
      ]
    },
    {
      "cell_type": "markdown",
      "metadata": {},
      "source": [
        "Notes: \n",
        "- Only imported half of the documents, took 2-3hours and exceeded my quota of 10$\n",
        "- Managed to get the streamlit interface but have to configure better the OPENAI API KEY in english2results.py\n",
        "\n",
        "To Get the streamlit interface, just run **streamlit run Home.py** in ui/streamlit"
      ]
    }
  ],
  "metadata": {
    "colab": {
      "provenance": []
    },
    "environment": {
      "kernel": "python3",
      "name": "common-cpu.m106",
      "type": "gcloud",
      "uri": "gcr.io/deeplearning-platform-release/base-cpu:m106"
    },
    "kernelspec": {
      "display_name": "multiMod_venv",
      "language": "python",
      "name": "multimod_venv"
    },
    "language_info": {
      "codemirror_mode": {
        "name": "ipython",
        "version": 3
      },
      "file_extension": ".py",
      "mimetype": "text/x-python",
      "name": "python",
      "nbconvert_exporter": "python",
      "pygments_lexer": "ipython3",
      "version": "3.11.6"
    }
  },
  "nbformat": 4,
  "nbformat_minor": 5
}
